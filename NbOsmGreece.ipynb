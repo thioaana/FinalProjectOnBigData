{
 "cells": [
  {
   "cell_type": "code",
   "execution_count": 1,
   "id": "b615ab19",
   "metadata": {},
   "outputs": [],
   "source": [
    "from pyspark.context import SparkContext, SparkConf\n",
    "from pyspark.sql import SparkSession ,SQLContext, Row\n",
    "from pyspark.sql import functions as F\n",
    "\n",
    "import pandas as pd\n",
    "import matplotlib.pyplot as plt\n",
    "import time"
   ]
  },
  {
   "cell_type": "code",
   "execution_count": 2,
   "id": "6250df21",
   "metadata": {},
   "outputs": [],
   "source": [
    "# In order to get the execution time \n",
    "st = time.time()"
   ]
  },
  {
   "cell_type": "markdown",
   "id": "1fb689c8",
   "metadata": {},
   "source": [
    "### Create SparkSession and setup sqlContext"
   ]
  },
  {
   "cell_type": "code",
   "execution_count": 3,
   "id": "2a994209",
   "metadata": {},
   "outputs": [
    {
     "data": {
      "text/html": [
       "\n",
       "            <div>\n",
       "                <p><b>SparkSession - in-memory</b></p>\n",
       "                \n",
       "        <div>\n",
       "            <p><b>SparkContext</b></p>\n",
       "\n",
       "            <p><a href=\"http://makis-Inspiron-3593.router.wind:4041\">Spark UI</a></p>\n",
       "\n",
       "            <dl>\n",
       "              <dt>Version</dt>\n",
       "                <dd><code>v3.3.1</code></dd>\n",
       "              <dt>Master</dt>\n",
       "                <dd><code>local[4]</code></dd>\n",
       "              <dt>AppName</dt>\n",
       "                <dd><code>OSM-Greece</code></dd>\n",
       "            </dl>\n",
       "        </div>\n",
       "        \n",
       "            </div>\n",
       "        "
      ],
      "text/plain": [
       "<pyspark.sql.session.SparkSession at 0x7f52be497ac0>"
      ]
     },
     "execution_count": 3,
     "metadata": {},
     "output_type": "execute_result"
    }
   ],
   "source": [
    "conf = SparkConf().setAppName('OSM-Greece').setMaster('local[4]')\n",
    "sc = SparkContext.getOrCreate(conf)\n",
    "spark = SparkSession(sc)\n",
    "spark"
   ]
  },
  {
   "cell_type": "code",
   "execution_count": 4,
   "id": "0195cb16",
   "metadata": {},
   "outputs": [],
   "source": [
    "sc = spark.sparkContext\n",
    "sqlContext = SQLContext(sc)\n",
    "\n",
    "# the files have fields of binary type that must converted to string type in the phase of reading them\n",
    "sqlContext.setConf(\"spark.sql.parquet.binaryAsString\",\"true\")"
   ]
  },
  {
   "cell_type": "markdown",
   "id": "574296a9",
   "metadata": {},
   "source": [
    "## 1. Read Files Node, Way, Relation and create the relevant DataFrames"
   ]
  },
  {
   "cell_type": "code",
   "execution_count": 5,
   "id": "936b0d73",
   "metadata": {},
   "outputs": [],
   "source": [
    "# Path to local files\n",
    "fileNode = \"../ProjectDownloads/greece-latest.osm.pbf.node.parquet\"\n",
    "fileWay  = \"../ProjectDownloads/greece-latest.osm.pbf.way.parquet\"\n",
    "fileRelation = \"../ProjectDownloads/greece-latest.osm.pbf.relation.parquet\"\n",
    "\n",
    "# # Path to Google Storage files\n",
    "# fileNode = \"gs://osm_project/data/greece-latest.osm.pbf.node.parquet\"\n",
    "# fileWay  = \"gs://osm_project/data/greece-latest.osm.pbf.way.parquet\"\n",
    "# fileRelation = \"gs://osm_project/data/greece-latest.osm.pbf.relation.parquet\""
   ]
  },
  {
   "cell_type": "markdown",
   "id": "a3ccd55b",
   "metadata": {},
   "source": [
    "### 1.1 Read and describe Node"
   ]
  },
  {
   "cell_type": "code",
   "execution_count": 6,
   "id": "660f7df8",
   "metadata": {},
   "outputs": [
    {
     "name": "stdout",
     "output_type": "stream",
     "text": [
      "root\n",
      " |-- id: long (nullable = true)\n",
      " |-- version: integer (nullable = true)\n",
      " |-- timestamp: long (nullable = true)\n",
      " |-- changeset: long (nullable = true)\n",
      " |-- uid: integer (nullable = true)\n",
      " |-- user_sid: string (nullable = true)\n",
      " |-- tags: array (nullable = true)\n",
      " |    |-- element: struct (containsNull = true)\n",
      " |    |    |-- key: string (nullable = true)\n",
      " |    |    |-- value: string (nullable = true)\n",
      " |-- latitude: double (nullable = true)\n",
      " |-- longitude: double (nullable = true)\n",
      "\n",
      "+-----+-------+-------------+---------+---+--------+----+------------------+------------------+\n",
      "|   id|version|    timestamp|changeset|uid|user_sid|tags|          latitude|         longitude|\n",
      "+-----+-------+-------------+---------+---+--------+----+------------------+------------------+\n",
      "|78695|      6|1628655387000|        0|  0|        |  []|        37.5969196|        23.0706507|\n",
      "|78696|      5|1628655387000|        0|  0|        |  []|37.595982400000004|23.071189800000003|\n",
      "|78697|      5|1628655387000|        0|  0|        |  []|        37.5958124|23.071294400000003|\n",
      "+-----+-------+-------------+---------+---+--------+----+------------------+------------------+\n",
      "only showing top 3 rows\n",
      "\n",
      "Total rows of Nodes 36932915\n"
     ]
    }
   ],
   "source": [
    "osmNodeDs = sqlContext.read.parquet(fileNode)\n",
    "# osmNodeDs = osmNodeDs.select('id', 'tags', 'latitude', 'longitude')\n",
    "# osmNodeDs = osmNodeDs.select('*')\n",
    "osmNodeDs.createOrReplaceTempView(\"osmNodeDs\")\n",
    "\n",
    "# Print Schema ans dample of rows\n",
    "osmNodeDs.printSchema()\n",
    "osmNodeDs.show(3)\n",
    "\n",
    "# Print total rows of file Nodes \n",
    "print('Total rows of Nodes', osmNodeDs.count())"
   ]
  },
  {
   "cell_type": "markdown",
   "id": "987c64f4",
   "metadata": {},
   "source": [
    "### 1.2 Read and describe Way"
   ]
  },
  {
   "cell_type": "code",
   "execution_count": 7,
   "id": "9804d172",
   "metadata": {},
   "outputs": [
    {
     "name": "stdout",
     "output_type": "stream",
     "text": [
      "root\n",
      " |-- id: long (nullable = true)\n",
      " |-- tags: array (nullable = true)\n",
      " |    |-- element: struct (containsNull = true)\n",
      " |    |    |-- key: string (nullable = true)\n",
      " |    |    |-- value: string (nullable = true)\n",
      " |-- nodes: array (nullable = true)\n",
      " |    |-- element: struct (containsNull = true)\n",
      " |    |    |-- index: integer (nullable = true)\n",
      " |    |    |-- nodeId: long (nullable = true)\n",
      "\n",
      "+-------+--------------------+--------------------+\n",
      "|     id|                tags|               nodes|\n",
      "+-------+--------------------+--------------------+\n",
      "|4263046|[{highway, tertia...|[{0, 78875}, {1, ...|\n",
      "|4263047|[{highway, tertia...|[{0, 6651311048},...|\n",
      "|4263048|[{highway, tertia...|[{0, 78810}, {1, ...|\n",
      "+-------+--------------------+--------------------+\n",
      "only showing top 3 rows\n",
      "\n",
      "Total rows of Ways 2720538\n"
     ]
    }
   ],
   "source": [
    "osmWayDs = sqlContext.read.parquet(fileWay)\n",
    "osmWayDs = osmWayDs.select('id', 'tags', 'nodes')\n",
    "osmWayDs.createOrReplaceTempView(\"osmWayDs\")\n",
    "\n",
    "# Print Schema ans dample of rows\n",
    "osmWayDs.printSchema()\n",
    "osmWayDs.show(3)\n",
    "\n",
    "# Print total rows of file Ways \n",
    "print('Total rows of Ways', osmWayDs.count())"
   ]
  },
  {
   "cell_type": "markdown",
   "id": "1bfffe0d",
   "metadata": {},
   "source": [
    "### 1.3 Read and describe Relation"
   ]
  },
  {
   "cell_type": "code",
   "execution_count": 8,
   "id": "4eed9b8e",
   "metadata": {},
   "outputs": [
    {
     "name": "stdout",
     "output_type": "stream",
     "text": [
      "root\n",
      " |-- id: long (nullable = true)\n",
      " |-- tags: array (nullable = true)\n",
      " |    |-- element: struct (containsNull = true)\n",
      " |    |    |-- key: string (nullable = true)\n",
      " |    |    |-- value: string (nullable = true)\n",
      " |-- members: array (nullable = true)\n",
      " |    |-- element: struct (containsNull = true)\n",
      " |    |    |-- id: long (nullable = true)\n",
      " |    |    |-- role: string (nullable = true)\n",
      " |    |    |-- type: string (nullable = true)\n",
      "\n",
      "+-----+--------------------+--------------------+\n",
      "|   id|                tags|             members|\n",
      "+-----+--------------------+--------------------+\n",
      "| 2828|[{addr:city, Αθήν...|[{10741857, outer...|\n",
      "|11759|[{name, MTB}, {ne...|[{23965337, , Way...|\n",
      "|19467|[{name, Imbros Go...| [{24335429, , Way}]|\n",
      "+-----+--------------------+--------------------+\n",
      "only showing top 3 rows\n",
      "\n",
      "Total rows of Relations 46167\n"
     ]
    }
   ],
   "source": [
    "osmRelationDs = sqlContext.read.parquet(fileRelation)\n",
    "osmRelationDs = osmRelationDs.select('id', 'tags', 'members')\n",
    "osmRelationDs.createOrReplaceTempView(\"osmRelationDs\")\n",
    "\n",
    "# Print Schema ans dample of rows\n",
    "osmRelationDs.printSchema()\n",
    "osmRelationDs.show(3)\n",
    "\n",
    "# Print total rows of file Ways \n",
    "print('Total rows of Relations', osmRelationDs.count())"
   ]
  },
  {
   "cell_type": "markdown",
   "id": "0076834d",
   "metadata": {},
   "source": [
    "## 2. Data Exploration"
   ]
  },
  {
   "cell_type": "markdown",
   "id": "c7802107",
   "metadata": {},
   "source": [
    "### 2.1 Sustenance, Education and Health categories\n",
    "- Find amenities belong to the categories above \n",
    "- Create a DataFrame counting each one of them and \n",
    "- Plot a pie"
   ]
  },
  {
   "cell_type": "code",
   "execution_count": 9,
   "id": "533dfe67",
   "metadata": {},
   "outputs": [
    {
     "name": "stdout",
     "output_type": "stream",
     "text": [
      "+----------+-----+\n",
      "|  Category|count|\n",
      "+----------+-----+\n",
      "|Sustenance|19032|\n",
      "| Education| 1648|\n",
      "|    Health| 3389|\n",
      "+----------+-----+\n",
      "\n"
     ]
    }
   ],
   "source": [
    "listSustenance = ['pub', 'bar', 'restaurant', 'cafe', 'fast-food']\n",
    "listEducation = ['college', 'kindergarten', 'driving_school', 'language_school', 'library', 'toy_library', \n",
    "                 'training', 'music_school', 'school', 'university']\n",
    "listHealth = ['baby_hatch', 'clinic', 'dentist', 'doctors', 'hospital', 'nursing_home', 'pharmacy', \n",
    "          'social_facility', 'veterinary']\n",
    "\n",
    "sustenance = osmNodeDs.filter((osmNodeDs.tags[0].key=='amenity') &\n",
    "                              (osmNodeDs.tags[0].value.isin(listSustenance))) \\\n",
    "                      .select('id', 'tags') \\\n",
    "                      .withColumn('Category', F.lit('Sustenance'))\n",
    "\n",
    "education = osmNodeDs.filter((osmNodeDs.tags[0].key=='amenity') &\n",
    "                              (osmNodeDs.tags[0].value.isin(listEducation))) \\\n",
    "                     .select('id', 'tags') \\\n",
    "                     .withColumn('Category', F.lit('Education'))\n",
    "\n",
    "health =    osmNodeDs.filter((osmNodeDs.tags[0].key=='amenity') &\n",
    "                              (osmNodeDs.tags[0].value.isin(listHealth))) \\\n",
    "                     .select('id', 'tags') \\\n",
    "                     .withColumn('Category', F.lit('Health'))\n",
    "\n",
    "cat3 = sustenance.union(education).union(health).groupBy('Category').count()\n",
    "cat3.show(5)"
   ]
  },
  {
   "cell_type": "code",
   "execution_count": 10,
   "id": "99be4fa3",
   "metadata": {},
   "outputs": [
    {
     "data": {
      "text/plain": [
       "([<matplotlib.patches.Wedge at 0x7f52bd9afe80>,\n",
       "  <matplotlib.patches.Wedge at 0x7f52bd9c4280>,\n",
       "  <matplotlib.patches.Wedge at 0x7f52bd9c4760>],\n",
       " [Text(-0.8707073566390022, 0.6722117963073257, 'Sustenance'),\n",
       "  Text(0.49915287055108504, -0.9802277346722097, 'Education'),\n",
       "  Text(0.994124282424508, -0.47086825237422547, 'Health')])"
      ]
     },
     "execution_count": 10,
     "metadata": {},
     "output_type": "execute_result"
    },
    {
     "data": {
      "image/png": "[encoded data removed]",
      "text/plain": [
       "<Figure size 432x288 with 1 Axes>"
      ]
     },
     "metadata": {},
     "output_type": "display_data"
    }
   ],
   "source": [
    "cat3df = cat3.toPandas()\n",
    "\n",
    "plt.pie(\n",
    "    cat3df['count'],\n",
    "    labels=cat3df['Category'],\n",
    ")"
   ]
  },
  {
   "cell_type": "markdown",
   "id": "a1f7988e",
   "metadata": {},
   "source": [
    "### 2.2 Visualize the top 15 categories of highways"
   ]
  },
  {
   "cell_type": "code",
   "execution_count": 11,
   "id": "a14f4479",
   "metadata": {},
   "outputs": [
    {
     "name": "stdout",
     "output_type": "stream",
     "text": [
      "root\n",
      " |-- id: long (nullable = true)\n",
      " |-- tags: array (nullable = true)\n",
      " |    |-- element: struct (containsNull = true)\n",
      " |    |    |-- key: string (nullable = true)\n",
      " |    |    |-- value: string (nullable = true)\n",
      " |-- nodes: array (nullable = true)\n",
      " |    |-- element: struct (containsNull = true)\n",
      " |    |    |-- index: integer (nullable = true)\n",
      " |    |    |-- nodeId: long (nullable = true)\n",
      "\n"
     ]
    }
   ],
   "source": [
    "osmWayDs.printSchema()"
   ]
  },
  {
   "cell_type": "code",
   "execution_count": 12,
   "id": "5016e392",
   "metadata": {},
   "outputs": [
    {
     "name": "stdout",
     "output_type": "stream",
     "text": [
      "+--------------+------+\n",
      "|         Value| count|\n",
      "+--------------+------+\n",
      "|   residential|355584|\n",
      "|         track|321226|\n",
      "|       service|210141|\n",
      "|  unclassified| 74149|\n",
      "|      tertiary| 48839|\n",
      "|       footway| 35154|\n",
      "|     secondary| 33437|\n",
      "|          path| 28706|\n",
      "|       primary| 17694|\n",
      "|    pedestrian|  9776|\n",
      "|         steps|  8652|\n",
      "| living_street|  5399|\n",
      "|         trunk|  4178|\n",
      "|secondary_link|  2179|\n",
      "|      motorway|  1944|\n",
      "+--------------+------+\n",
      "\n"
     ]
    }
   ],
   "source": [
    "highway = osmWayDs.filter(osmWayDs.tags[0].key=='highway') \\\n",
    "                  .select(osmWayDs.tags[0].value.alias('Value')) \\\n",
    "                  .groupBy('Value').count().orderBy(F.col('count').desc()).limit(15)\n",
    "highway.show()"
   ]
  },
  {
   "cell_type": "code",
   "execution_count": 13,
   "id": "c331820c",
   "metadata": {},
   "outputs": [
    {
     "data": {
      "text/plain": [
       "<AxesSubplot:xlabel='Value'>"
      ]
     },
     "execution_count": 13,
     "metadata": {},
     "output_type": "execute_result"
    },
    {
     "data": {
      "image/png": "[encoded data removed]",
      "text/plain": [
       "<Figure size 432x288 with 1 Axes>"
      ]
     },
     "metadata": {
      "needs_background": "light"
     },
     "output_type": "display_data"
    }
   ],
   "source": [
    "highwayDf = highway.toPandas()\n",
    "\n",
    "highwayDf.plot.bar(x = 'Value', y = 'count')"
   ]
  },
  {
   "cell_type": "code",
   "execution_count": 14,
   "id": "8dfdab2f",
   "metadata": {},
   "outputs": [
    {
     "name": "stdout",
     "output_type": "stream",
     "text": [
      "Execution time :  34.30276679992676 seconds\n"
     ]
    }
   ],
   "source": [
    "et = time.time()\n",
    "print('Execution time : ', et-st, 'seconds')"
   ]
  }
 ],
 "metadata": {
  "kernelspec": {
   "display_name": "Python [conda env:spacial_pyspark]",
   "language": "python",
   "name": "conda-env-spacial_pyspark-py"
  },
  "language_info": {
   "codemirror_mode": {
    "name": "ipython",
    "version": 3
   },
   "file_extension": ".py",
   "mimetype": "text/x-python",
   "name": "python",
   "nbconvert_exporter": "python",
   "pygments_lexer": "ipython3",
   "version": "3.8.15"
  }
 },
 "nbformat": 4,
 "nbformat_minor": 5
}
